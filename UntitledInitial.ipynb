{
 "cells": [
  {
   "cell_type": "code",
   "execution_count": 4,
   "id": "261787a2-cd8f-4960-a585-d100ef428dae",
   "metadata": {
    "tags": []
   },
   "outputs": [],
   "source": [
    "import pandas as pd\n",
    "import numpy as np\n",
    "import spotipy as sp\n",
    "\n",
    "from spotipy.oauth2 import SpotifyClientCredentials\n",
    "import spotipy.util as util\n"
   ]
  },
  {
   "cell_type": "code",
   "execution_count": 6,
   "id": "20dca41c-0a89-4777-a43e-72f39f2a09af",
   "metadata": {
    "tags": []
   },
   "outputs": [
    {
     "ename": "SpotifyOauthError",
     "evalue": "No client_id. Pass it or set a SPOTIPY_CLIENT_ID environment variable.",
     "output_type": "error",
     "traceback": [
      "\u001b[0;31m---------------------------------------------------------------------------\u001b[0m",
      "\u001b[0;31mSpotifyOauthError\u001b[0m                         Traceback (most recent call last)",
      "\u001b[1;32m/Users/mlid/Desktop/SpringboardDS/sbGit/SpotifyCapstone/UntitledInitial.ipynb Cell 2\u001b[0m line \u001b[0;36m2\n\u001b[1;32m      <a href='vscode-notebook-cell:/Users/mlid/Desktop/SpringboardDS/sbGit/SpotifyCapstone/UntitledInitial.ipynb#W3sZmlsZQ%3D%3D?line=0'>1</a>\u001b[0m \u001b[39m# Authorise\u001b[39;00m\n\u001b[0;32m----> <a href='vscode-notebook-cell:/Users/mlid/Desktop/SpringboardDS/sbGit/SpotifyCapstone/UntitledInitial.ipynb#W3sZmlsZQ%3D%3D?line=1'>2</a>\u001b[0m auth \u001b[39m=\u001b[39m SpotifyClientCredentials()\n\u001b[1;32m      <a href='vscode-notebook-cell:/Users/mlid/Desktop/SpringboardDS/sbGit/SpotifyCapstone/UntitledInitial.ipynb#W3sZmlsZQ%3D%3D?line=2'>3</a>\u001b[0m token\u001b[39m=\u001b[39mutil\u001b[39m.\u001b[39mprompt_for_user_token(auth)\n",
      "File \u001b[0;32m~/anaconda3/lib/python3.11/site-packages/spotipy/oauth2.py:201\u001b[0m, in \u001b[0;36mSpotifyClientCredentials.__init__\u001b[0;34m(self, client_id, client_secret, proxies, requests_session, requests_timeout, cache_handler)\u001b[0m\n\u001b[1;32m    172\u001b[0m \u001b[39m\u001b[39m\u001b[39m\"\"\"\u001b[39;00m\n\u001b[1;32m    173\u001b[0m \u001b[39mCreates a Client Credentials Flow Manager.\u001b[39;00m\n\u001b[1;32m    174\u001b[0m \n\u001b[0;32m   (...)\u001b[0m\n\u001b[1;32m    196\u001b[0m \n\u001b[1;32m    197\u001b[0m \u001b[39m\"\"\"\u001b[39;00m\n\u001b[1;32m    199\u001b[0m \u001b[39msuper\u001b[39m(SpotifyClientCredentials, \u001b[39mself\u001b[39m)\u001b[39m.\u001b[39m\u001b[39m__init__\u001b[39m(requests_session)\n\u001b[0;32m--> 201\u001b[0m \u001b[39mself\u001b[39m\u001b[39m.\u001b[39mclient_id \u001b[39m=\u001b[39m client_id\n\u001b[1;32m    202\u001b[0m \u001b[39mself\u001b[39m\u001b[39m.\u001b[39mclient_secret \u001b[39m=\u001b[39m client_secret\n\u001b[1;32m    203\u001b[0m \u001b[39mself\u001b[39m\u001b[39m.\u001b[39mproxies \u001b[39m=\u001b[39m proxies\n",
      "File \u001b[0;32m~/anaconda3/lib/python3.11/site-packages/spotipy/oauth2.py:94\u001b[0m, in \u001b[0;36mSpotifyAuthBase.client_id\u001b[0;34m(self, val)\u001b[0m\n\u001b[1;32m     92\u001b[0m \u001b[39m@client_id\u001b[39m\u001b[39m.\u001b[39msetter\n\u001b[1;32m     93\u001b[0m \u001b[39mdef\u001b[39;00m \u001b[39mclient_id\u001b[39m(\u001b[39mself\u001b[39m, val):\n\u001b[0;32m---> 94\u001b[0m     \u001b[39mself\u001b[39m\u001b[39m.\u001b[39m_client_id \u001b[39m=\u001b[39m _ensure_value(val, \u001b[39m\"\u001b[39m\u001b[39mclient_id\u001b[39m\u001b[39m\"\u001b[39m)\n",
      "File \u001b[0;32m~/anaconda3/lib/python3.11/site-packages/spotipy/oauth2.py:70\u001b[0m, in \u001b[0;36m_ensure_value\u001b[0;34m(value, env_key)\u001b[0m\n\u001b[1;32m     65\u001b[0m \u001b[39mif\u001b[39;00m _val \u001b[39mis\u001b[39;00m \u001b[39mNone\u001b[39;00m:\n\u001b[1;32m     66\u001b[0m     msg \u001b[39m=\u001b[39m \u001b[39m\"\u001b[39m\u001b[39mNo \u001b[39m\u001b[39m%s\u001b[39;00m\u001b[39m. Pass it or set a \u001b[39m\u001b[39m%s\u001b[39;00m\u001b[39m environment variable.\u001b[39m\u001b[39m\"\u001b[39m \u001b[39m%\u001b[39m (\n\u001b[1;32m     67\u001b[0m         env_key,\n\u001b[1;32m     68\u001b[0m         env_val,\n\u001b[1;32m     69\u001b[0m     )\n\u001b[0;32m---> 70\u001b[0m     \u001b[39mraise\u001b[39;00m SpotifyOauthError(msg)\n\u001b[1;32m     71\u001b[0m \u001b[39mreturn\u001b[39;00m _val\n",
      "\u001b[0;31mSpotifyOauthError\u001b[0m: No client_id. Pass it or set a SPOTIPY_CLIENT_ID environment variable."
     ]
    }
   ],
   "source": [
    "# Authorise\n",
    "auth = SpotifyClientCredentials()\n",
    "token=util.prompt_for_user_token(auth)\n",
    "# spoti = sp.Spotify(auth_manager=SpotifyClientCredentials())\n",
    "# sp.trace = False"
   ]
  },
  {
   "cell_type": "code",
   "execution_count": 11,
   "id": "cd703c81-f46b-42f0-9182-37c9a5effa3a",
   "metadata": {
    "tags": []
   },
   "outputs": [],
   "source": [
    "username = \"smccarthy1213@gmail.com\"\n",
    "scope    = \"user-read-currently-playing\"\n",
    "redirect_uri = \"http://localhost:1213/callback\"\n",
    "token = util.prompt_for_user_token(username, scope, client_id=clientID, client_secret=clientSecret, redirect_uri=redirect_uri)\n"
   ]
  },
  {
   "cell_type": "code",
   "execution_count": null,
   "id": "f58a9237",
   "metadata": {},
   "outputs": [],
   "source": []
  },
  {
   "cell_type": "code",
   "execution_count": 9,
   "id": "0bad1a05-8c71-4301-9a30-1db305af9913",
   "metadata": {
    "tags": []
   },
   "outputs": [],
   "source": [
    "import spotipy\n",
    "from spotipy.oauth2 import SpotifyOAuth\n",
    "\n",
    "sp = spotipy.Spotify(auth_manager=SpotifyOAuth(\n",
    "    client_id = 'c8ca4199683347f99f12eb35cc5792d3',\n",
    "    client_secret= '004a4be25b854d9fbec087cb226ee4bc',\n",
    "    redirect_uri='http://localhost:1213/callback',\n",
    "    scope='user-read-currently-playing'))\n",
    "\n",
    "def Get_Current_Song():\n",
    "    response_current_track = sp.current_user_playing_track()\n",
    "    if response_current_track  is not None and response_current_track[\"item\"] is not None:\n",
    "        song = response_current_track[\"item\"]\n",
    "        trackName = str(song['artists'][0]['name'])+ \" - \" + str(song['name'])\n",
    "        \n",
    "    return trackName\n",
    "\n",
    "\n",
    "track=Get_Current_Song()\n",
    "#hist=sp.current_user_recently_played(limit=10)"
   ]
  },
  {
   "cell_type": "code",
   "execution_count": 10,
   "id": "cb3cff37-ec9d-4e16-acaf-475af6ec14dc",
   "metadata": {
    "tags": []
   },
   "outputs": [
    {
     "name": "stdout",
     "output_type": "stream",
     "text": [
      "Mac Miller - What's the Use?\n"
     ]
    }
   ],
   "source": [
    "print(track)"
   ]
  },
  {
   "cell_type": "code",
   "execution_count": 10,
   "id": "2ab28feb-5d3d-4cd0-bc5c-6d386bdba033",
   "metadata": {
    "tags": []
   },
   "outputs": [
    {
     "name": "stderr",
     "output_type": "stream",
     "text": [
      "HTTP Error for GET to https://api.spotify.com/v1/me/player/recently-played with Params: {'limit': 10, 'after': None, 'before': None} returned 403 due to Insufficient client scope\n"
     ]
    },
    {
     "ename": "SpotifyException",
     "evalue": "http status: 403, code:-1 - https://api.spotify.com/v1/me/player/recently-played?limit=10:\n Insufficient client scope, reason: None",
     "output_type": "error",
     "traceback": [
      "\u001b[0;31m---------------------------------------------------------------------------\u001b[0m",
      "\u001b[0;31mHTTPError\u001b[0m                                 Traceback (most recent call last)",
      "File \u001b[0;32m~/anaconda3/lib/python3.11/site-packages/spotipy/client.py:271\u001b[0m, in \u001b[0;36mSpotify._internal_call\u001b[0;34m(self, method, url, payload, params)\u001b[0m\n\u001b[1;32m    266\u001b[0m response \u001b[38;5;241m=\u001b[39m \u001b[38;5;28mself\u001b[39m\u001b[38;5;241m.\u001b[39m_session\u001b[38;5;241m.\u001b[39mrequest(\n\u001b[1;32m    267\u001b[0m     method, url, headers\u001b[38;5;241m=\u001b[39mheaders, proxies\u001b[38;5;241m=\u001b[39m\u001b[38;5;28mself\u001b[39m\u001b[38;5;241m.\u001b[39mproxies,\n\u001b[1;32m    268\u001b[0m     timeout\u001b[38;5;241m=\u001b[39m\u001b[38;5;28mself\u001b[39m\u001b[38;5;241m.\u001b[39mrequests_timeout, \u001b[38;5;241m*\u001b[39m\u001b[38;5;241m*\u001b[39margs\n\u001b[1;32m    269\u001b[0m )\n\u001b[0;32m--> 271\u001b[0m response\u001b[38;5;241m.\u001b[39mraise_for_status()\n\u001b[1;32m    272\u001b[0m results \u001b[38;5;241m=\u001b[39m response\u001b[38;5;241m.\u001b[39mjson()\n",
      "File \u001b[0;32m~/anaconda3/lib/python3.11/site-packages/requests/models.py:1021\u001b[0m, in \u001b[0;36mResponse.raise_for_status\u001b[0;34m(self)\u001b[0m\n\u001b[1;32m   1020\u001b[0m \u001b[38;5;28;01mif\u001b[39;00m http_error_msg:\n\u001b[0;32m-> 1021\u001b[0m     \u001b[38;5;28;01mraise\u001b[39;00m HTTPError(http_error_msg, response\u001b[38;5;241m=\u001b[39m\u001b[38;5;28mself\u001b[39m)\n",
      "\u001b[0;31mHTTPError\u001b[0m: 403 Client Error: Forbidden for url: https://api.spotify.com/v1/me/player/recently-played?limit=10",
      "\nDuring handling of the above exception, another exception occurred:\n",
      "\u001b[0;31mSpotifyException\u001b[0m                          Traceback (most recent call last)",
      "Cell \u001b[0;32mIn[10], line 1\u001b[0m\n\u001b[0;32m----> 1\u001b[0m \u001b[38;5;28mprint\u001b[39m(sp\u001b[38;5;241m.\u001b[39mcurrent_user_recently_played(limit\u001b[38;5;241m=\u001b[39m\u001b[38;5;241m10\u001b[39m))\n",
      "File \u001b[0;32m~/anaconda3/lib/python3.11/site-packages/spotipy/client.py:1498\u001b[0m, in \u001b[0;36mSpotify.current_user_recently_played\u001b[0;34m(self, limit, after, before)\u001b[0m\n\u001b[1;32m   1486\u001b[0m \u001b[38;5;28;01mdef\u001b[39;00m \u001b[38;5;21mcurrent_user_recently_played\u001b[39m(\u001b[38;5;28mself\u001b[39m, limit\u001b[38;5;241m=\u001b[39m\u001b[38;5;241m50\u001b[39m, after\u001b[38;5;241m=\u001b[39m\u001b[38;5;28;01mNone\u001b[39;00m, before\u001b[38;5;241m=\u001b[39m\u001b[38;5;28;01mNone\u001b[39;00m):\n\u001b[1;32m   1487\u001b[0m \u001b[38;5;250m    \u001b[39m\u001b[38;5;124;03m\"\"\" Get the current user's recently played tracks\u001b[39;00m\n\u001b[1;32m   1488\u001b[0m \n\u001b[1;32m   1489\u001b[0m \u001b[38;5;124;03m        Parameters:\u001b[39;00m\n\u001b[0;32m   (...)\u001b[0m\n\u001b[1;32m   1496\u001b[0m \u001b[38;5;124;03m                       Cannot be used if after is specified\u001b[39;00m\n\u001b[1;32m   1497\u001b[0m \u001b[38;5;124;03m    \"\"\"\u001b[39;00m\n\u001b[0;32m-> 1498\u001b[0m     \u001b[38;5;28;01mreturn\u001b[39;00m \u001b[38;5;28mself\u001b[39m\u001b[38;5;241m.\u001b[39m_get(\n\u001b[1;32m   1499\u001b[0m         \u001b[38;5;124m\"\u001b[39m\u001b[38;5;124mme/player/recently-played\u001b[39m\u001b[38;5;124m\"\u001b[39m,\n\u001b[1;32m   1500\u001b[0m         limit\u001b[38;5;241m=\u001b[39mlimit,\n\u001b[1;32m   1501\u001b[0m         after\u001b[38;5;241m=\u001b[39mafter,\n\u001b[1;32m   1502\u001b[0m         before\u001b[38;5;241m=\u001b[39mbefore,\n\u001b[1;32m   1503\u001b[0m     )\n",
      "File \u001b[0;32m~/anaconda3/lib/python3.11/site-packages/spotipy/client.py:323\u001b[0m, in \u001b[0;36mSpotify._get\u001b[0;34m(self, url, args, payload, **kwargs)\u001b[0m\n\u001b[1;32m    320\u001b[0m \u001b[38;5;28;01mif\u001b[39;00m args:\n\u001b[1;32m    321\u001b[0m     kwargs\u001b[38;5;241m.\u001b[39mupdate(args)\n\u001b[0;32m--> 323\u001b[0m \u001b[38;5;28;01mreturn\u001b[39;00m \u001b[38;5;28mself\u001b[39m\u001b[38;5;241m.\u001b[39m_internal_call(\u001b[38;5;124m\"\u001b[39m\u001b[38;5;124mGET\u001b[39m\u001b[38;5;124m\"\u001b[39m, url, payload, kwargs)\n",
      "File \u001b[0;32m~/anaconda3/lib/python3.11/site-packages/spotipy/client.py:293\u001b[0m, in \u001b[0;36mSpotify._internal_call\u001b[0;34m(self, method, url, payload, params)\u001b[0m\n\u001b[1;32m    286\u001b[0m         reason \u001b[38;5;241m=\u001b[39m \u001b[38;5;28;01mNone\u001b[39;00m\n\u001b[1;32m    288\u001b[0m     logger\u001b[38;5;241m.\u001b[39merror(\n\u001b[1;32m    289\u001b[0m         \u001b[38;5;124m'\u001b[39m\u001b[38;5;124mHTTP Error for \u001b[39m\u001b[38;5;132;01m%s\u001b[39;00m\u001b[38;5;124m to \u001b[39m\u001b[38;5;132;01m%s\u001b[39;00m\u001b[38;5;124m with Params: \u001b[39m\u001b[38;5;132;01m%s\u001b[39;00m\u001b[38;5;124m returned \u001b[39m\u001b[38;5;132;01m%s\u001b[39;00m\u001b[38;5;124m due to \u001b[39m\u001b[38;5;132;01m%s\u001b[39;00m\u001b[38;5;124m'\u001b[39m,\n\u001b[1;32m    290\u001b[0m         method, url, args\u001b[38;5;241m.\u001b[39mget(\u001b[38;5;124m\"\u001b[39m\u001b[38;5;124mparams\u001b[39m\u001b[38;5;124m\"\u001b[39m), response\u001b[38;5;241m.\u001b[39mstatus_code, msg\n\u001b[1;32m    291\u001b[0m     )\n\u001b[0;32m--> 293\u001b[0m     \u001b[38;5;28;01mraise\u001b[39;00m SpotifyException(\n\u001b[1;32m    294\u001b[0m         response\u001b[38;5;241m.\u001b[39mstatus_code,\n\u001b[1;32m    295\u001b[0m         \u001b[38;5;241m-\u001b[39m\u001b[38;5;241m1\u001b[39m,\n\u001b[1;32m    296\u001b[0m         \u001b[38;5;124m\"\u001b[39m\u001b[38;5;132;01m%s\u001b[39;00m\u001b[38;5;124m:\u001b[39m\u001b[38;5;130;01m\\n\u001b[39;00m\u001b[38;5;124m \u001b[39m\u001b[38;5;132;01m%s\u001b[39;00m\u001b[38;5;124m\"\u001b[39m \u001b[38;5;241m%\u001b[39m (response\u001b[38;5;241m.\u001b[39murl, msg),\n\u001b[1;32m    297\u001b[0m         reason\u001b[38;5;241m=\u001b[39mreason,\n\u001b[1;32m    298\u001b[0m         headers\u001b[38;5;241m=\u001b[39mresponse\u001b[38;5;241m.\u001b[39mheaders,\n\u001b[1;32m    299\u001b[0m     )\n\u001b[1;32m    300\u001b[0m \u001b[38;5;28;01mexcept\u001b[39;00m requests\u001b[38;5;241m.\u001b[39mexceptions\u001b[38;5;241m.\u001b[39mRetryError \u001b[38;5;28;01mas\u001b[39;00m retry_error:\n\u001b[1;32m    301\u001b[0m     request \u001b[38;5;241m=\u001b[39m retry_error\u001b[38;5;241m.\u001b[39mrequest\n",
      "\u001b[0;31mSpotifyException\u001b[0m: http status: 403, code:-1 - https://api.spotify.com/v1/me/player/recently-played?limit=10:\n Insufficient client scope, reason: None"
     ]
    }
   ],
   "source": [
    "print(sp.current_user_recently_played(limit=10))"
   ]
  }
 ],
 "metadata": {
  "kernelspec": {
   "display_name": "Python 3 (ipykernel)",
   "language": "python",
   "name": "python3"
  },
  "language_info": {
   "codemirror_mode": {
    "name": "ipython",
    "version": 3
   },
   "file_extension": ".py",
   "mimetype": "text/x-python",
   "name": "python",
   "nbconvert_exporter": "python",
   "pygments_lexer": "ipython3",
   "version": "3.11.5"
  }
 },
 "nbformat": 4,
 "nbformat_minor": 5
}
